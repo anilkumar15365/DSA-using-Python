{
 "cells": [
  {
   "cell_type": "markdown",
   "metadata": {},
   "source": [
    "###  TO FIND THERE IS PATH OR NOT BETWEEN TWO VERTICES"
   ]
  },
  {
   "cell_type": "markdown",
   "metadata": {},
   "source": [
    "### V1 AND V2 HAAVE PATH IF 1. v1 and v2 are adj , 2. if adj vertices of v1 have path to v2"
   ]
  },
  {
   "cell_type": "code",
   "execution_count": null,
   "metadata": {},
   "outputs": [],
   "source": [
    "import queue\n",
    "class Graph:\n",
    "    def __init__(self,nVertices):\n",
    "        self.nVertices=nVertices\n",
    "        self.adjMatrix=[[0 for i in range(nVertices)]for j in range(nVertices)]\n",
    "    \n",
    "    def addEdge(self,v1,v2):\n",
    "        self.adjMatrix[v1][v2]=1\n",
    "        self.adjMatrix[v2][v1]=1\n",
    "    \n",
    "    def __dfsHelper(self,sv,visited): ##start vertex\n",
    "        \n",
    "        print(sv)\n",
    "        visited[sv]=True\n",
    "        for i in range(self. nVertices):\n",
    "            if self.adjMatrix[sv][i]>0 and visited[i] is False:\n",
    "                self.__dfsHelper(i,visited)\n",
    "    \n",
    "    \n",
    "    def dfs(self):\n",
    "        visited=[False for i in range(self.nVertices)]\n",
    "        self.__dfsHelper(0,visited)\n",
    "        \n",
    "    def bfs(self):\n",
    "        q=queue.Queue()\n",
    "        visited=[False for i in range(self.nVertices)]\n",
    "        q.put(0)\n",
    "        visited[0]=True\n",
    "        while q.empty() is False:\n",
    "            u=q.get()\n",
    "            print(u)\n",
    "            for i in range (self.nVertices):\n",
    "                if self.adjMatrix[u][i]>0 and visited[i] is False:\n",
    "                    q.put(i)\n",
    "                    visited[i]=True\n",
    "                    \n",
    "                    \n",
    "        \n",
    "    def removeEdge(self):\n",
    "        if self.containsEdge(v1,v2) is False:\n",
    "            return\n",
    "        self.adjMatrix[v1][v2]=0\n",
    "        self.adjMatrix[v2][v1]=0\n",
    "        \n",
    "    def containsEdge(self,v1,v2):\n",
    "        return True if self.adjMatrix[v1][v2]>0 else False\n",
    "    \n",
    "    def __str__(self):\n",
    "        return str(self.adjMatrix)\n",
    "    \n",
    "    def __haspathhelper(self,v1,v2,visited):\n",
    "        if self.adjMatrix[v1][v2]>0:\n",
    "            return True\n",
    "        visited[v1]=True\n",
    "        \n",
    "        for i in range(self.nVertices):\n",
    "            if self.adjMatrix[v1][i] > 0  and visited[i] is False:\n",
    "                if self.__haspathhelper(i, v2, visited):\n",
    "                    #visited[v2]=True\n",
    "                    return True       \n",
    "        return False\n",
    "        \n",
    "    \n",
    "    def hasPath(self,v1,v2):\n",
    "        visited=[False for i in range(self.nVertices)]\n",
    "        return self.__haspathhelper(v1,v2,visited)\n",
    "        \n",
    "        \n",
    "    \n",
    "v,e=[int(ele)for ele in input().split()]\n",
    "temp=e\n",
    "g=Graph(v)\n",
    "while temp>0:\n",
    "    a,b=[int(ele)for ele in input().split()]\n",
    "    g.addEdge(a,b)\n",
    "    temp=temp-1\n",
    "v1,v2=[int(ele)for ele in input().split()]\n",
    "ans=g.hasPath(v1,v2)\n",
    "if ans:\n",
    "    print(\"true\")\n",
    "else:\n",
    "    print(\"false\")"
   ]
  },
  {
   "cell_type": "code",
   "execution_count": null,
   "metadata": {},
   "outputs": [],
   "source": []
  },
  {
   "cell_type": "code",
   "execution_count": null,
   "metadata": {},
   "outputs": [],
   "source": []
  }
 ],
 "metadata": {
  "kernelspec": {
   "display_name": "Python 3",
   "language": "python",
   "name": "python3"
  },
  "language_info": {
   "codemirror_mode": {
    "name": "ipython",
    "version": 3
   },
   "file_extension": ".py",
   "mimetype": "text/x-python",
   "name": "python",
   "nbconvert_exporter": "python",
   "pygments_lexer": "ipython3",
   "version": "3.8.3"
  }
 },
 "nbformat": 4,
 "nbformat_minor": 4
}
