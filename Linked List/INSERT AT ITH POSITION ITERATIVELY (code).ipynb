{
 "cells": [
  {
   "cell_type": "code",
   "execution_count": 7,
   "metadata": {},
   "outputs": [
    {
     "name": "stdout",
     "output_type": "stream",
     "text": [
      "1 2 3 4 5 -1\n",
      "1-->2-->3-->4-->5-->NONE\n",
      "1-->2-->6-->3-->4-->5-->NONE\n",
      "9-->1-->2-->6-->3-->4-->5-->NONE\n"
     ]
    }
   ],
   "source": [
    "class Node:\n",
    "    def __init__(self,data):\n",
    "        self.data=data\n",
    "        self.next=None\n",
    "def printLL(head):\n",
    "    while head is not None:\n",
    "        print(str(head.data) +\"-->\",end=\"\")\n",
    "        head=head.next\n",
    "    print(\"NONE\")\n",
    "    return\n",
    "def length(head):\n",
    "    c=0\n",
    "    while head is not None:\n",
    "        c=c+1\n",
    "        head=head.next\n",
    "    return c\n",
    "def insertAt(head,i,data):       \n",
    "    if i<0 or i>length(head):\n",
    "        return head\n",
    "    c=0\n",
    "    prev=None\n",
    "    curr=head\n",
    "    while c<i:\n",
    "        prev=curr\n",
    "        curr=curr.next\n",
    "        c=c+1\n",
    "    newNode=Node(data)\n",
    "    if prev is not None:\n",
    "        prev.next=newNode\n",
    "    else:\n",
    "        head=newNode\n",
    "    newNode.next=curr\n",
    "    return head\n",
    "def takeInput():\n",
    "    inputList=[int(ele) for ele in input().split()]\n",
    "    head=None\n",
    "    tail=None\n",
    "    for curr in inputList:\n",
    "        if curr==-1:\n",
    "            break\n",
    "        newNode=Node(curr)\n",
    "        if head==None:\n",
    "            head=newNode\n",
    "            tail=newNode\n",
    "        else:\n",
    "            tail.next=newNode\n",
    "            tail=newNode\n",
    "    return head\n",
    "head=takeInput()\n",
    "printLL(head)\n",
    "head=insertAt(head,2,6)\n",
    "printLL(head)\n",
    "head=insertAt(head,0,9)\n",
    "printLL(head)"
   ]
  }
 ],
 "metadata": {
  "kernelspec": {
   "display_name": "Python 3",
   "language": "python",
   "name": "python3"
  }
 },
 "nbformat": 4,
 "nbformat_minor": 4
}
