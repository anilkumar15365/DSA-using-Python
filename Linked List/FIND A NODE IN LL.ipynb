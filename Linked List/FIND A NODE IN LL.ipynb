{
 "cells": [
  {
   "cell_type": "code",
   "execution_count": 10,
   "metadata": {},
   "outputs": [
    {
     "name": "stdout",
     "output_type": "stream",
     "text": [
      "1 2 3 4 5 -1\n",
      "5\n",
      "curr= 1\n",
      "curr= 2\n",
      "curr= 3\n",
      "curr= 4\n",
      "curr= 5\n",
      "4\n"
     ]
    }
   ],
   "source": [
    "class Node:\n",
    "    def __init__(self, data):\n",
    "        self.data = data\n",
    "        self.next = None\n",
    "\n",
    "def linearSearch(head, n):\n",
    "    curr = head\n",
    "    c=0\n",
    "    while curr.next is not None:\n",
    "        print(\"curr=\",curr.data)\n",
    "        if curr.data ==n:\n",
    "            return c\n",
    "        c=c+1\n",
    "        curr=curr.next\n",
    "    if curr.data==n:\n",
    "        print(\"curr=\",curr.data)\n",
    "        return c\n",
    "    return -1\n",
    "    pass\n",
    "\n",
    "def ll(arr):\n",
    "    if len(arr)==0:\n",
    "        return None\n",
    "    head = Node(arr[0])\n",
    "    last = head\n",
    "    for data in arr[1:]:\n",
    "        last.next = Node(data)\n",
    "        last = last.next\n",
    "    return head\n",
    "\n",
    "# Main\n",
    "# Read the link list elements including -1\n",
    "arr=list(int(i) for i in input().strip().split(' '))\n",
    "# Create a Linked list after removing -1 from list\n",
    "l = ll(arr[:-1])\n",
    "data=int(input())\n",
    "index = linearSearch(l, data)\n",
    "print(index)\n"
   ]
  },
  {
   "cell_type": "code",
   "execution_count": 11,
   "metadata": {},
   "outputs": [
    {
     "name": "stdout",
     "output_type": "stream",
     "text": [
      "1 2 3 4 5 -1\n",
      "2\n",
      "curr= 1\n",
      "curr= 2\n",
      "1\n"
     ]
    }
   ],
   "source": [
    "class Node:\n",
    "    def __init__(self, data):\n",
    "        self.data = data\n",
    "        self.next = None\n",
    "\n",
    "def linearSearch(head, n):\n",
    "    curr = head\n",
    "    c=0\n",
    "    while curr is not None:\n",
    "        print(\"curr=\",curr.data)\n",
    "        if curr.data ==n:\n",
    "            return c\n",
    "        c=c+1\n",
    "        curr=curr.next\n",
    "    return -1\n",
    "    pass\n",
    "\n",
    "def ll(arr):\n",
    "    if len(arr)==0:\n",
    "        return None\n",
    "    head = Node(arr[0])\n",
    "    last = head\n",
    "    for data in arr[1:]:\n",
    "        last.next = Node(data)\n",
    "        last = last.next\n",
    "    return head\n",
    "\n",
    "# Main\n",
    "# Read the link list elements including -1\n",
    "arr=list(int(i) for i in input().strip().split(' '))\n",
    "# Create a Linked list after removing -1 from list\n",
    "l = ll(arr[:-1])\n",
    "data=int(input())\n",
    "index = linearSearch(l, data)\n",
    "print(index)\n"
   ]
  }
 ],
 "metadata": {
  "kernelspec": {
   "display_name": "Python 3",
   "language": "python",
   "name": "python3"
  },
  "language_info": {
   "codemirror_mode": {
    "name": "ipython",
    "version": 3
   },
   "file_extension": ".py",
   "mimetype": "text/x-python",
   "name": "python",
   "nbconvert_exporter": "python",
   "pygments_lexer": "ipython3",
   "version": "3.8.2"
  }
 },
 "nbformat": 4,
 "nbformat_minor": 4
}
