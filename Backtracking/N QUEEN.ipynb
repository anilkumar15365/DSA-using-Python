{
 "cells": [
  {
   "cell_type": "markdown",
   "metadata": {},
   "source": [
    "### PLACE N QUEEN SUCH THAT NO QUEEN KILL OR CROSS EACH OTHER ,,,,,,,,,,,,,,,,,########## PRINT ALL POSSIBLE WAYS"
   ]
  },
  {
   "cell_type": "markdown",
   "metadata": {},
   "source": [
    "### A QUEEN CAN MOVE IN 8 DIRECTION (INCLUDING DIAGONAL)"
   ]
  },
  {
   "cell_type": "code",
   "execution_count": 5,
   "metadata": {},
   "outputs": [
    {
     "name": "stdout",
     "output_type": "stream",
     "text": [
      "4\n",
      "0 1 0 0 0 0 0 1 1 0 0 0 0 0 1 0 \n",
      "0 0 1 0 1 0 0 0 0 0 0 1 0 1 0 0 \n"
     ]
    }
   ],
   "source": [
    "def printPathsHelper(row,n,board):\n",
    "    if row==n:\n",
    "        for i in range (n):\n",
    "            for j in range(n):\n",
    "                print(board[i][j],end=\" \")\n",
    "        print()\n",
    "        return\n",
    "    for cols in range(n):\n",
    "        if isSafe(row,cols,board,n):\n",
    "            board[row][cols]=1\n",
    "            printPathsHelper(row+1,n,board)\n",
    "            board[row][cols]=0\n",
    "    return\n",
    "\n",
    "def isSafe(row,col,board,n):\n",
    "    ###vertical\n",
    "    i=row-1\n",
    "    while i>=0:\n",
    "        if board[i][col]==1:\n",
    "            return False\n",
    "        i-=1\n",
    "    #left diagonal\n",
    "    i=row-1\n",
    "    j=col-1\n",
    "    while i>=0 and j>=0:\n",
    "        if board[i][j]==1:\n",
    "            return False\n",
    "        i-=1\n",
    "        j-=1\n",
    "    #right diagonal\n",
    "    i=row-1\n",
    "    j=col+1\n",
    "    while i>=0 and j<n:\n",
    "        if board[i][j]==1:\n",
    "            return False\n",
    "        i-=1\n",
    "        j+=1\n",
    "    return True\n",
    "        \n",
    "    \n",
    "def printPaths(n):\n",
    "    board=[[0 for j in range(n)]for i in range(n)]\n",
    "    printPathsHelper(0,n,board) ### pass row 0 to n\n",
    "\n",
    "n=int(input())\n",
    "printPaths(n)"
   ]
  }
 ],
 "metadata": {
  "kernelspec": {
   "display_name": "Python 3",
   "language": "python",
   "name": "python3"
  },
  "language_info": {
   "codemirror_mode": {
    "name": "ipython",
    "version": 3
   },
   "file_extension": ".py",
   "mimetype": "text/x-python",
   "name": "python",
   "nbconvert_exporter": "python",
   "pygments_lexer": "ipython3",
   "version": "3.8.3"
  }
 },
 "nbformat": 4,
 "nbformat_minor": 4
}
