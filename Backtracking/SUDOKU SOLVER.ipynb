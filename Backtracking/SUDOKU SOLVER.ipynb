{
 "cells": [
  {
   "cell_type": "markdown",
   "metadata": {},
   "source": [
    "### convert 9 * 9 into 9 (3 * 3 ) where each 3*3 have all no once only "
   ]
  },
  {
   "cell_type": "code",
   "execution_count": null,
   "metadata": {},
   "outputs": [],
   "source": [
    "def presentinrow(board,row,num):\n",
    "    for j in range(9):\n",
    "        if board[row][j]==num:\n",
    "            return True\n",
    "    return False\n",
    "\n",
    "def presentincol(board,col,num):\n",
    "    for j in range(9):\n",
    "        if board[col][j]==num:\n",
    "            return True\n",
    "    return False\n",
    "\n",
    "def presentinbox(board,row,col,num):\n",
    "    for i in range(row,row+3):\n",
    "        for j in range(col,col+3):\n",
    "            if board[i][j]==num:\n",
    "                return True\n",
    "    return False\n",
    "\n",
    "\n",
    "def ispossible(board,row,col,num):\n",
    "    if presentinrow(board,row,num):\n",
    "        return False\n",
    "    if presentincol(board,col,num):\n",
    "        return False\n",
    "    if presentinbox(board,row-(row%3),col-(col%3),num):\n",
    "        return False\n",
    "    return True\n",
    "    \n",
    "\n",
    "def solveSudoku(board):\n",
    "    row=-1\n",
    "    col=-1\n",
    "    flag=False\n",
    "    for i in range(9):\n",
    "        for j in range (9):\n",
    "            if board[i][j]==0:\n",
    "                row=i\n",
    "                col=j\n",
    "                flag=True\n",
    "                break\n",
    "        if flag:\n",
    "            break\n",
    "    if row==-1:\n",
    "        return True\n",
    "    for num in range(1,10):\n",
    "        if (ispossible(board,row,col,num)):\n",
    "            board[row][col]=num\n",
    "            if solveSudoku(board):\n",
    "                return True\n",
    "            board[row][col]=0\n",
    "    return False\n",
    "\n",
    "\n",
    "\n",
    "board=[[int(ele)for ele in input().split()]for j in range (9)]\n",
    "if (solveSudoku(board)):\n",
    "    print('true')\n",
    "else:\n",
    "    print('false')"
   ]
  }
 ],
 "metadata": {
  "kernelspec": {
   "display_name": "Python 3",
   "language": "python",
   "name": "python3"
  },
  "language_info": {
   "codemirror_mode": {
    "name": "ipython",
    "version": 3
   },
   "file_extension": ".py",
   "mimetype": "text/x-python",
   "name": "python",
   "nbconvert_exporter": "python",
   "pygments_lexer": "ipython3",
   "version": "3.8.3"
  }
 },
 "nbformat": 4,
 "nbformat_minor": 4
}
