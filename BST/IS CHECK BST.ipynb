{
 "cells": [
  {
   "cell_type": "code",
   "execution_count": 3,
   "metadata": {},
   "outputs": [],
   "source": [
    "import queue\n",
    "class BinaryTreeNode:\n",
    "    def __init__(self, data):\n",
    "        self.data = data\n",
    "        self.left = None\n",
    "        self.right = None\n",
    "\n",
    "    "
   ]
  },
  {
   "cell_type": "code",
   "execution_count": 5,
   "metadata": {},
   "outputs": [],
   "source": [
    "def printTreeDetailed(root):\n",
    "    if root==None:\n",
    "        return\n",
    "    print(root.data,end=\" \")\n",
    "    if root.left!=None:\n",
    "        print(\"L:\",root.left.data,end=\" \")\n",
    "    if root.right!=None:\n",
    "        print(\"R:\",root.right.data,end=\" \")\n",
    "    print()\n",
    "    printTreeDetailed(root.left)\n",
    "    printTreeDetailed(root.right)"
   ]
  },
  {
   "cell_type": "code",
   "execution_count": 7,
   "metadata": {},
   "outputs": [],
   "source": [
    "import queue\n",
    "def takeLevelWiseInput():\n",
    "    q=queue.Queue()\n",
    "    print(\"enter root\")\n",
    "    rootData=int(input())\n",
    "    if rootData==-1:\n",
    "        return None\n",
    "    root=BinaryTreeNode(rootData)\n",
    "    q.put(root)\n",
    "    while (not(q.empty())):\n",
    "        current_node=q.get()\n",
    "        print(\"enter left child of\",current_node.data)\n",
    "        leftChildData=int(input())\n",
    "        if leftChildData!=-1:\n",
    "            leftChild=BinaryTreeNode(leftChildData)\n",
    "            current_node.left=leftChild\n",
    "            q.put(leftChild)\n",
    "        print(\"enter right child of\",current_node.data)\n",
    "        rightChildData=int(input())\n",
    "        if rightChildData!=-1:\n",
    "            rightChild=BinaryTreeNode(rightChildData)\n",
    "            current_node.right=rightChild\n",
    "            q.put(rightChild)\n",
    "    \n",
    "    return root"
   ]
  },
  {
   "cell_type": "code",
   "execution_count": 8,
   "metadata": {},
   "outputs": [],
   "source": [
    "def minTree(root):\n",
    "    if root==None:\n",
    "        return 100000\n",
    "    leftMin=minTree(root.left)\n",
    "    rightMin=minTree(root.right)\n",
    "    return min(leftMin,rightMin,root.data)"
   ]
  },
  {
   "cell_type": "code",
   "execution_count": 9,
   "metadata": {},
   "outputs": [],
   "source": [
    "def maxTree(root):\n",
    "    if root==None:\n",
    "        return -100000\n",
    "    leftMax=maxTree(root.left)\n",
    "    rightMax=maxTree(root.right)\n",
    "    return min(leftMax,rightMax,root.data)"
   ]
  },
  {
   "cell_type": "code",
   "execution_count": 20,
   "metadata": {},
   "outputs": [],
   "source": [
    "def isBST(root):\n",
    "    if root==None:\n",
    "        return True\n",
    "    leftMax=maxTree(root.left)\n",
    "    rightMin=minTree(root.right)\n",
    "    if root.data>rightMin or root.data<=leftMax:\n",
    "        return False\n",
    "    isLeftBST=isBST(root.left)\n",
    "    isRightBST=isBST(root.right)\n",
    "\n",
    "    return isLeftBST and isRightBST"
   ]
  },
  {
   "cell_type": "code",
   "execution_count": 21,
   "metadata": {},
   "outputs": [
    {
     "name": "stdout",
     "output_type": "stream",
     "text": [
      "enter root\n",
      "4\n",
      "enter left child of 4\n",
      "2\n",
      "enter right child of 4\n",
      "6\n",
      "enter left child of 2\n",
      "-1\n",
      "enter right child of 2\n",
      "-1\n",
      "enter left child of 6\n",
      "-1\n",
      "enter right child of 6\n",
      "-1\n",
      "4 L: 2 R: 6 \n",
      "2 \n",
      "6 \n"
     ]
    },
    {
     "data": {
      "text/plain": [
       "True"
      ]
     },
     "execution_count": 21,
     "metadata": {},
     "output_type": "execute_result"
    }
   ],
   "source": [
    "root=takeLevelWiseInput()\n",
    "printTreeDetailed(root)\n",
    "isBST(root)"
   ]
  }
 ],
 "metadata": {
  "kernelspec": {
   "display_name": "Python 3",
   "language": "python",
   "name": "python3"
  },
  "language_info": {
   "codemirror_mode": {
    "name": "ipython",
    "version": 3
   },
   "file_extension": ".py",
   "mimetype": "text/x-python",
   "name": "python",
   "nbconvert_exporter": "python",
   "pygments_lexer": "ipython3",
   "version": "3.8.2"
  }
 },
 "nbformat": 4,
 "nbformat_minor": 4
}
