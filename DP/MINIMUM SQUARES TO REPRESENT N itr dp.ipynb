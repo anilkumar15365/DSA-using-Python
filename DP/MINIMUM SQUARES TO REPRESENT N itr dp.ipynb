{
 "cells": [
  {
   "cell_type": "code",
   "execution_count": 1,
   "metadata": {},
   "outputs": [
    {
     "name": "stdout",
     "output_type": "stream",
     "text": [
      "20\n",
      "2\n"
     ]
    }
   ],
   "source": [
    "\n",
    "import sys,math\n",
    "def minStepsTo1(n):\n",
    "    dp=[-1 for i in range (n+1)]\n",
    "    dp[0]=0\n",
    "    \n",
    "    for i in range(1,n+1):\n",
    "        ans=sys.maxsize\n",
    "        root=int(math.sqrt(i))\n",
    "        for j in range (1,root+1):\n",
    "            currAns=1+dp[i-(j**2)]\n",
    "            ans=min(ans,currAns)\n",
    "        dp[i]=ans\n",
    "    return dp[n]\n",
    "\n",
    "        \n",
    "\n",
    "    \n",
    "n = int(input())\n",
    "ans = minStepsTo1(n)\n",
    "print(ans)\n",
    "\n",
    "\n",
    "\n",
    "\n",
    "\n"
   ]
  }
 ],
 "metadata": {
  "kernelspec": {
   "display_name": "Python 3",
   "language": "python",
   "name": "python3"
  },
  "language_info": {
   "codemirror_mode": {
    "name": "ipython",
    "version": 3
   },
   "file_extension": ".py",
   "mimetype": "text/x-python",
   "name": "python",
   "nbconvert_exporter": "python",
   "pygments_lexer": "ipython3",
   "version": "3.8.2"
  }
 },
 "nbformat": 4,
 "nbformat_minor": 4
}
