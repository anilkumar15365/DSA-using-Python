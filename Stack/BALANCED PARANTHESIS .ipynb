{
 "cells": [
  {
   "cell_type": "code",
   "execution_count": 3,
   "metadata": {},
   "outputs": [
    {
     "name": "stderr",
     "output_type": "stream",
     "text": [
      "<>:6: SyntaxWarning: \"is\" with a literal. Did you mean \"==\"?\n",
      "<>:10: SyntaxWarning: \"is\" with a literal. Did you mean \"==\"?\n",
      "<>:15: SyntaxWarning: \"is\" with a literal. Did you mean \"==\"?\n",
      "<>:6: SyntaxWarning: \"is\" with a literal. Did you mean \"==\"?\n",
      "<>:10: SyntaxWarning: \"is\" with a literal. Did you mean \"==\"?\n",
      "<>:15: SyntaxWarning: \"is\" with a literal. Did you mean \"==\"?\n",
      "<ipython-input-3-da5d052ca73b>:6: SyntaxWarning: \"is\" with a literal. Did you mean \"==\"?\n",
      "  elif char is ')':\n",
      "<ipython-input-3-da5d052ca73b>:10: SyntaxWarning: \"is\" with a literal. Did you mean \"==\"?\n",
      "  elif char is '}':\n",
      "<ipython-input-3-da5d052ca73b>:15: SyntaxWarning: \"is\" with a literal. Did you mean \"==\"?\n",
      "  elif char is ']':\n"
     ]
    },
    {
     "name": "stdout",
     "output_type": "stream",
     "text": [
      "{{}}\n",
      "true\n"
     ]
    }
   ],
   "source": [
    "\n",
    "def checkBalanced(expr):\n",
    "    stk=[]\n",
    "    for char in expr:\n",
    "        if char in '({[':\n",
    "            stk.append(char)\n",
    "        elif char is ')':\n",
    "            if (not stk or stk[-1]!='('):\n",
    "                return False\n",
    "            stk.pop()\n",
    "        elif char is '}':\n",
    "            if (not stk or stk[-1]!='{'):\n",
    "                return False\n",
    "            stk.pop()\n",
    "            \n",
    "        elif char is ']':\n",
    "            if (not stk or stk[-1]!='['):\n",
    "                return False\n",
    "            stk.pop()\n",
    "    if (not stk):\n",
    "        return True\n",
    "    else:\n",
    "        return False\n",
    "    \n",
    "\n",
    "exp=input()\n",
    "if checkBalanced(exp):\n",
    "    print('true')\n",
    "else:\n",
    "    print('false')\n",
    "\n"
   ]
  }
 ],
 "metadata": {
  "kernelspec": {
   "display_name": "Python 3",
   "language": "python",
   "name": "python3"
  },
  "language_info": {
   "codemirror_mode": {
    "name": "ipython",
    "version": 3
   },
   "file_extension": ".py",
   "mimetype": "text/x-python",
   "name": "python",
   "nbconvert_exporter": "python",
   "pygments_lexer": "ipython3",
   "version": "3.8.2"
  }
 },
 "nbformat": 4,
 "nbformat_minor": 4
}
