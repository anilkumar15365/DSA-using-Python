{
 "cells": [
  {
   "cell_type": "markdown",
   "metadata": {},
   "source": [
    "### WE JUST ASSUME ALWAYS THAT MY REC WORK FINE FOR ALL N-1 TH CHAR , JUST KEEP IN MIND THE WORK TO BE DONE FOR NTH CHAR,,,, BASED ON THIS WE CREATE OUR RECURSION FUNCTION"
   ]
  },
  {
   "cell_type": "code",
   "execution_count": 5,
   "metadata": {},
   "outputs": [],
   "source": [
    "def getString(d):\n",
    "    if d==2:\n",
    "        return \"abc\"\n",
    "    if d==3:\n",
    "        return \"def\"\n",
    "    if d==4:\n",
    "        return \"ghi\"\n",
    "    if d==5:\n",
    "        return \"jkl\"\n",
    "    if d==6:\n",
    "        return \"mno\"\n",
    "    if d==7:\n",
    "        return \"pqrs\"\n",
    "    if d==8:\n",
    "        return \"tuv\"\n",
    "    if d==9:\n",
    "        return \"wxyz\""
   ]
  },
  {
   "cell_type": "code",
   "execution_count": 9,
   "metadata": {},
   "outputs": [],
   "source": [
    "def printkeypad(no,ans):\n",
    "    if no==0:\n",
    "        print(ans)\n",
    "        return\n",
    "    #smallernumber=printkeypad(no//10,ans)\n",
    "    lastdigit=no%10\n",
    "    getoptions=getString(lastdigit)\n",
    "    for s in getoptions:\n",
    "        printkeypad(no//10,s+ans)\n",
    "        \n",
    "        \n",
    "        \n",
    "    "
   ]
  },
  {
   "cell_type": "code",
   "execution_count": 10,
   "metadata": {},
   "outputs": [
    {
     "name": "stdout",
     "output_type": "stream",
     "text": [
      "adg\n",
      "bdg\n",
      "cdg\n",
      "aeg\n",
      "beg\n",
      "ceg\n",
      "afg\n",
      "bfg\n",
      "cfg\n",
      "adh\n",
      "bdh\n",
      "cdh\n",
      "aeh\n",
      "beh\n",
      "ceh\n",
      "afh\n",
      "bfh\n",
      "cfh\n",
      "adi\n",
      "bdi\n",
      "cdi\n",
      "aei\n",
      "bei\n",
      "cei\n",
      "afi\n",
      "bfi\n",
      "cfi\n"
     ]
    }
   ],
   "source": [
    "printkeypad(234,\"\")"
   ]
  }
 ],
 "metadata": {
  "kernelspec": {
   "display_name": "Python 3",
   "language": "python",
   "name": "python3"
  },
  "language_info": {
   "codemirror_mode": {
    "name": "ipython",
    "version": 3
   },
   "file_extension": ".py",
   "mimetype": "text/x-python",
   "name": "python",
   "nbconvert_exporter": "python",
   "pygments_lexer": "ipython3",
   "version": "3.8.3"
  }
 },
 "nbformat": 4,
 "nbformat_minor": 4
}
