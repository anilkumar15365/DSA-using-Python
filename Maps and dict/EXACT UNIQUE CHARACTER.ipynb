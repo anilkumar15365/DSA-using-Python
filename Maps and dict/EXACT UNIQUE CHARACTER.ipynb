{
 "cells": [
  {
   "cell_type": "code",
   "execution_count": 1,
   "metadata": {},
   "outputs": [
    {
     "name": "stdout",
     "output_type": "stream",
     "text": [
      "a\n",
      "b\n",
      "c\n"
     ]
    }
   ],
   "source": [
    "s=\"abc\"\n",
    "for w in s:\n",
    "    print(w)"
   ]
  },
  {
   "cell_type": "code",
   "execution_count": 2,
   "metadata": {},
   "outputs": [
    {
     "name": "stdout",
     "output_type": "stream",
     "text": [
      "{'a': 1, 'b': 1, 'c': 1}\n"
     ]
    }
   ],
   "source": [
    "d={}\n",
    "for w in s:\n",
    "    d[w]=d.get(w,0)+1\n",
    "print(d)"
   ]
  },
  {
   "cell_type": "code",
   "execution_count": 5,
   "metadata": {},
   "outputs": [
    {
     "name": "stdout",
     "output_type": "stream",
     "text": [
      "ababacd\n",
      "abcd\n"
     ]
    }
   ],
   "source": [
    "def uniqueChars(string):\n",
    "    # Please add your code here\n",
    "    d={}\n",
    "    for w in string:\n",
    "        d[w]=d.get(w,0)+1\n",
    "    s=\"\"\n",
    "    for w in string:\n",
    "        if d[w]>=1:\n",
    "            s=s+w\n",
    "        d[w]=0\n",
    "    return s\n",
    "    pass\n",
    "\n",
    "# Main\n",
    "string = input()\n",
    "print(uniqueChars(string))\n"
   ]
  },
  {
   "cell_type": "code",
   "execution_count": 6,
   "metadata": {},
   "outputs": [
    {
     "name": "stdout",
     "output_type": "stream",
     "text": [
      "aabcccd\n",
      "abcd\n"
     ]
    }
   ],
   "source": [
    "def uniqueChars(string):\n",
    "    # Please add your code here\n",
    "    d={}\n",
    "    for w in string:\n",
    "        d[w]=d.get(w,0)+1\n",
    "    s=\"\"\n",
    "    for w in string:\n",
    "        if d[w]>=1:\n",
    "            s=s+w\n",
    "        d[w]=0\n",
    "    return s\n",
    "    pass\n",
    "\n",
    "# Main\n",
    "string = input()\n",
    "print(uniqueChars(string))\n"
   ]
  },
  {
   "cell_type": "code",
   "execution_count": null,
   "metadata": {},
   "outputs": [],
   "source": [
    "def unique(s):\n",
    "    ans=\"\"\n",
    "    m={}\n",
    "    for char in s:\n",
    "        if char not in m:\n",
    "            ans=ans+char\n",
    "            m[char]=True\n",
    "    return ans"
   ]
  }
 ],
 "metadata": {
  "kernelspec": {
   "display_name": "Python 3",
   "language": "python",
   "name": "python3"
  },
  "language_info": {
   "codemirror_mode": {
    "name": "ipython",
    "version": 3
   },
   "file_extension": ".py",
   "mimetype": "text/x-python",
   "name": "python",
   "nbconvert_exporter": "python",
   "pygments_lexer": "ipython3",
   "version": "3.8.2"
  }
 },
 "nbformat": 4,
 "nbformat_minor": 4
}
